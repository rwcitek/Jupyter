{
 "cells": [
  {
   "cell_type": "markdown",
   "id": "ef422344-f90e-4157-9fbe-c2a74a276e63",
   "metadata": {},
   "source": [
    "# Python\n"
   ]
  },
  {
   "cell_type": "code",
   "execution_count": null,
   "id": "0c6e14b6-4066-4237-99de-a69213eac85d",
   "metadata": {},
   "outputs": [],
   "source": [
    "print(\"Hello, world\")"
   ]
  },
  {
   "cell_type": "code",
   "execution_count": null,
   "id": "c2eeb6dd-6c79-4396-b9a5-e932273f5697",
   "metadata": {},
   "outputs": [],
   "source": [
    "1+1"
   ]
  },
  {
   "cell_type": "code",
   "execution_count": null,
   "id": "65abf2d9-9100-4ec2-aa6f-80ee22f7c4a5",
   "metadata": {},
   "outputs": [],
   "source": [
    "x=[1,2,3,4,5]\n",
    "y=[1,2,3,4,5]"
   ]
  },
  {
   "cell_type": "code",
   "execution_count": null,
   "id": "8fdbf9ac-fc2b-404f-95f2-b7e78dfa2ef4",
   "metadata": {},
   "outputs": [],
   "source": [
    "x"
   ]
  },
  {
   "cell_type": "code",
   "execution_count": null,
   "id": "1926de66-f335-45c1-9a62-64627e6b0ce9",
   "metadata": {},
   "outputs": [],
   "source": [
    "y"
   ]
  },
  {
   "cell_type": "code",
   "execution_count": null,
   "id": "d2b80400-b740-48c8-989e-379865ab7713",
   "metadata": {},
   "outputs": [],
   "source": [
    "import matplotlib.pyplot as plt\n",
    "\n",
    "plt.plot(x,y)"
   ]
  },
  {
   "cell_type": "markdown",
   "id": "83b965cc-963a-4a40-bb34-6210f2d099b8",
   "metadata": {},
   "source": [
    "#Markdown\n",
    "\n",
    "Workin with [Markdown Cells](https://jupyter-notebook.readthedocs.io/en/stable/examples/Notebook/Working%20With%20Markdown%20Cells.html#)"
   ]
  },
  {
   "cell_type": "markdown",
   "id": "e4e270f4-47a2-4876-adf4-a6e16e4be816",
   "metadata": {},
   "source": [
    "Hello world\n",
    "\n",
    "```python\n",
    "print(\"Hello, world\")\n",
    "```\n",
    "### This is a level 3 header\n"
   ]
  },
  {
   "cell_type": "markdown",
   "id": "c991c114-4a52-44b4-8a72-14424416f8ba",
   "metadata": {},
   "source": [
    "You can have equations both in-line: $e^{i\\pi} + 1 = 0$\n",
    "\n",
    "And on their own line:\n",
    "\n",
    "\\begin{equation}\n",
    "e^x=\\sum_{i=0}^\\infty \\frac{1}{i!}x^i\n",
    "\\end{equation}\n",
    "\n",
    "\n",
    "\n"
   ]
  },
  {
   "cell_type": "markdown",
   "id": "ed7fac01-7e51-4d05-96e0-28357cb84958",
   "metadata": {},
   "source": [
    "# Magics"
   ]
  },
  {
   "cell_type": "markdown",
   "id": "b4d907ed-f858-4397-a74e-759b9732143a",
   "metadata": {},
   "source": [
    "Jupyter also allows special commands called magics that do things \"outside\" of Python."
   ]
  },
  {
   "cell_type": "code",
   "execution_count": null,
   "id": "c275d92d-f382-4fd3-9496-c56e7840258c",
   "metadata": {},
   "outputs": [],
   "source": [
    "!echo Hello, world"
   ]
  },
  {
   "cell_type": "code",
   "execution_count": null,
   "id": "3ff431e6-43f9-4bb7-ac85-b4bb67c2b6aa",
   "metadata": {},
   "outputs": [],
   "source": [
    "%%bash\n",
    "for i in {1..4} ; do\n",
    "  echo $i\n",
    "done"
   ]
  },
  {
   "cell_type": "code",
   "execution_count": null,
   "id": "647e888f-8570-4539-9a84-d690da2b4a02",
   "metadata": {},
   "outputs": [],
   "source": [
    "%lsmagic"
   ]
  },
  {
   "cell_type": "code",
   "execution_count": null,
   "id": "3ca797d0-0414-41bc-ab6b-79f9c2f4eb53",
   "metadata": {},
   "outputs": [],
   "source": [
    "%%capture output\n",
    "%%bash\n",
    "ls -la\n",
    "zfoo\n",
    "true"
   ]
  },
  {
   "cell_type": "code",
   "execution_count": null,
   "id": "7585965b-95a2-45bd-8c06-e0df5f17c0c6",
   "metadata": {},
   "outputs": [],
   "source": [
    "output.stdout"
   ]
  },
  {
   "cell_type": "code",
   "execution_count": null,
   "id": "e3bf44fa-7217-48c6-b2a5-ee7e048874e2",
   "metadata": {},
   "outputs": [],
   "source": [
    "output.stderr"
   ]
  },
  {
   "cell_type": "code",
   "execution_count": null,
   "id": "d3a10524-0508-4653-bd54-9bde69154af0",
   "metadata": {},
   "outputs": [],
   "source": []
  }
 ],
 "metadata": {
  "kernelspec": {
   "display_name": "Python 3 (ipykernel)",
   "language": "python",
   "name": "python3"
  },
  "language_info": {
   "codemirror_mode": {
    "name": "ipython",
    "version": 3
   },
   "file_extension": ".py",
   "mimetype": "text/x-python",
   "name": "python",
   "nbconvert_exporter": "python",
   "pygments_lexer": "ipython3",
   "version": "3.9.2"
  },
  "toc-autonumbering": false,
  "toc-showmarkdowntxt": false
 },
 "nbformat": 4,
 "nbformat_minor": 5
}
