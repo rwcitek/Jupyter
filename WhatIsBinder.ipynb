{
 "cells": [
  {
   "cell_type": "markdown",
   "metadata": {
    "id": "aGhvt7M0TvX2"
   },
   "source": [
    "# What is Binder?\n",
    "I wanted to answer that question.  So, this is a collection of commands to probe the Binder environment to figure out what exists and what can be done with it ... other than just Python."
   ]
  },
  {
   "cell_type": "markdown",
   "metadata": {
    "id": "u6gXiFZNtjCF"
   },
   "source": [
    "We'll use Jupyter's '!' magic to run shell commands."
   ]
  },
  {
   "cell_type": "code",
   "execution_count": 1,
   "metadata": {
    "colab": {
     "base_uri": "https://localhost:8080/"
    },
    "executionInfo": {
     "elapsed": 347,
     "status": "ok",
     "timestamp": 1658255332087,
     "user": {
      "displayName": "Robert Citek",
      "userId": "12069792984466392165"
     },
     "user_tz": 360
    },
    "id": "7mLbZuhwoepu",
    "outputId": "ae5b5d05-4be5-4eb0-9fd4-d6a00263d703"
   },
   "outputs": [
    {
     "name": "stdout",
     "output_type": "stream",
     "text": [
      "Linux jupyter-rwcitek-2djupyter-2de3be3or0 5.4.170+ #1 SMP Wed Mar 23 10:13:41 PDT 2022 x86_64 x86_64 x86_64 GNU/Linux\n"
     ]
    }
   ],
   "source": [
    "!uname -a"
   ]
  },
  {
   "cell_type": "markdown",
   "metadata": {
    "id": "cl6TY4Juok7c"
   },
   "source": [
    "Ah-ha!  It seems like we have an x86 Linux system.\n",
    "What ditribution are we running?\n"
   ]
  },
  {
   "cell_type": "code",
   "execution_count": 2,
   "metadata": {
    "colab": {
     "base_uri": "https://localhost:8080/"
    },
    "executionInfo": {
     "elapsed": 42,
     "status": "ok",
     "timestamp": 1658255332089,
     "user": {
      "displayName": "Robert Citek",
      "userId": "12069792984466392165"
     },
     "user_tz": 360
    },
    "id": "m1pLSJ_zRUT4",
    "outputId": "0c31398d-b5d3-4c15-a03d-20707ed1c729"
   },
   "outputs": [
    {
     "name": "stdout",
     "output_type": "stream",
     "text": [
      "NAME=\"Ubuntu\"\n",
      "VERSION=\"18.04.6 LTS (Bionic Beaver)\"\n",
      "ID=ubuntu\n",
      "ID_LIKE=debian\n",
      "PRETTY_NAME=\"Ubuntu 18.04.6 LTS\"\n",
      "VERSION_ID=\"18.04\"\n",
      "HOME_URL=\"https://www.ubuntu.com/\"\n",
      "SUPPORT_URL=\"https://help.ubuntu.com/\"\n",
      "BUG_REPORT_URL=\"https://bugs.launchpad.net/ubuntu/\"\n",
      "PRIVACY_POLICY_URL=\"https://www.ubuntu.com/legal/terms-and-policies/privacy-policy\"\n",
      "VERSION_CODENAME=bionic\n",
      "UBUNTU_CODENAME=bionic\n"
     ]
    }
   ],
   "source": [
    "!cat /etc/os-release"
   ]
  },
  {
   "cell_type": "markdown",
   "metadata": {
    "id": "OFU0pnzCDFWE"
   },
   "source": [
    "Hmmm.  So we are running a slightly older version of Ubuntu."
   ]
  },
  {
   "cell_type": "markdown",
   "metadata": {
    "id": "-gQhwi2sUDM9"
   },
   "source": [
    "## Storage\n",
    "How much local storage space is available?"
   ]
  },
  {
   "cell_type": "code",
   "execution_count": 3,
   "metadata": {
    "colab": {
     "base_uri": "https://localhost:8080/"
    },
    "executionInfo": {
     "elapsed": 25,
     "status": "ok",
     "timestamp": 1658255332090,
     "user": {
      "displayName": "Robert Citek",
      "userId": "12069792984466392165"
     },
     "user_tz": 360
    },
    "id": "Efg35ygTTaKC",
    "outputId": "24a4ca6f-65da-4c62-a77c-b137356d558e"
   },
   "outputs": [
    {
     "name": "stdout",
     "output_type": "stream",
     "text": [
      "Filesystem     Type     Size  Used Avail Use% Mounted on\n",
      "overlay        overlay  784G  613G  171G  79% /\n",
      "tmpfs          tmpfs     64M     0   64M   0% /dev\n",
      "tmpfs          tmpfs     26G     0   26G   0% /sys/fs/cgroup\n",
      "/dev/sda1      ext4     784G  613G  171G  79% /etc/hosts\n",
      "shm            tmpfs     64M     0   64M   0% /dev/shm\n",
      "tmpfs          tmpfs     26G     0   26G   0% /proc/acpi\n",
      "tmpfs          tmpfs     26G     0   26G   0% /proc/scsi\n",
      "tmpfs          tmpfs     26G     0   26G   0% /sys/firmware\n"
     ]
    }
   ],
   "source": [
    "!df -hTPl"
   ]
  },
  {
   "cell_type": "markdown",
   "metadata": {
    "id": "617BSfPcpFzQ"
   },
   "source": [
    "Looks like about 780G with 174GB free.  Makes me wonder what's taking up those 610GB; a question for another time."
   ]
  },
  {
   "cell_type": "markdown",
   "metadata": {
    "id": "RsLC2W-2pXPJ"
   },
   "source": [
    "What user am I running as?"
   ]
  },
  {
   "cell_type": "code",
   "execution_count": 4,
   "metadata": {
    "colab": {
     "base_uri": "https://localhost:8080/"
    },
    "executionInfo": {
     "elapsed": 251,
     "status": "ok",
     "timestamp": 1658255332327,
     "user": {
      "displayName": "Robert Citek",
      "userId": "12069792984466392165"
     },
     "user_tz": 360
    },
    "id": "pg3Unq3HpRTd",
    "outputId": "715d1445-4e2a-4c15-e1fb-7f4c725f8ee8"
   },
   "outputs": [
    {
     "name": "stdout",
     "output_type": "stream",
     "text": [
      "jovyan\n",
      "uid=1000(jovyan) gid=1000(jovyan) groups=1000(jovyan),100(users)\n"
     ]
    }
   ],
   "source": [
    "!whoami ; id"
   ]
  },
  {
   "cell_type": "markdown",
   "metadata": {
    "id": "Jtr1O9aBpdNL"
   },
   "source": [
    "ok.  Jovyan, not root."
   ]
  },
  {
   "cell_type": "code",
   "execution_count": 18,
   "metadata": {},
   "outputs": [
    {
     "name": "stdout",
     "output_type": "stream",
     "text": [
      "/bin/bash: sudo: command not found\n"
     ]
    }
   ],
   "source": [
    "!sudo id"
   ]
  },
  {
   "cell_type": "markdown",
   "metadata": {},
   "source": [
    "Dang! No sudo.  Probably can't install extra stuff."
   ]
  },
  {
   "cell_type": "markdown",
   "metadata": {
    "id": "niJWVHnsWLIa"
   },
   "source": [
    "What is the current folder?\n"
   ]
  },
  {
   "cell_type": "code",
   "execution_count": 5,
   "metadata": {
    "colab": {
     "base_uri": "https://localhost:8080/"
    },
    "executionInfo": {
     "elapsed": 26,
     "status": "ok",
     "timestamp": 1658255332330,
     "user": {
      "displayName": "Robert Citek",
      "userId": "12069792984466392165"
     },
     "user_tz": 360
    },
    "id": "E-fi8cVSUNUR",
    "outputId": "f73033cd-7124-4559-abd0-22a73b83d46c"
   },
   "outputs": [
    {
     "name": "stdout",
     "output_type": "stream",
     "text": [
      "/home/jovyan\n"
     ]
    }
   ],
   "source": [
    "!pwd"
   ]
  },
  {
   "cell_type": "markdown",
   "metadata": {
    "id": "4q-VML8kWHVR"
   },
   "source": [
    "What's in the current folder?"
   ]
  },
  {
   "cell_type": "code",
   "execution_count": 6,
   "metadata": {
    "colab": {
     "base_uri": "https://localhost:8080/"
    },
    "executionInfo": {
     "elapsed": 269,
     "status": "ok",
     "timestamp": 1658255332583,
     "user": {
      "displayName": "Robert Citek",
      "userId": "12069792984466392165"
     },
     "user_tz": 360
    },
    "id": "d0SFNnEFUHix",
    "outputId": "68a91adb-fd57-49de-ec2a-ed53f3156ded"
   },
   "outputs": [
    {
     "name": "stdout",
     "output_type": "stream",
     "text": [
      "total 248\n",
      "drwxr-xr-x 1 jovyan jovyan  4096 Jul 19 19:25 .\n",
      "drwxr-xr-x 1 root   root    4096 Jun 12 04:06 ..\n",
      "-rw-r--r-- 1 jovyan jovyan 16323 Jul 19 19:15 01-demo.ipynb\n",
      "-rw-r--r-- 1 jovyan jovyan   220 Apr  4  2018 .bash_logout\n",
      "-rw-r--r-- 1 jovyan jovyan  3771 Apr  4  2018 .bashrc\n",
      "drwxr-xr-x 3 jovyan jovyan  4096 Jul 19 19:22 .cache\n",
      "drwxr-xr-x 2 jovyan jovyan  4096 Jul 19 19:15 docs\n",
      "drwxr-xr-x 8 jovyan jovyan  4096 Jul 19 19:15 .git\n",
      "drwxr-xr-x 2 jovyan jovyan  4096 Jul 19 19:23 .ipynb_checkpoints\n",
      "drwxr-xr-x 5 jovyan jovyan  4096 Jul 19 19:23 .ipython\n",
      "drwxr-xr-x 3 jovyan jovyan  4096 Jul 19 19:22 .jupyter\n",
      "-rw-r--r-- 1 jovyan jovyan  5541 Jul 19 19:26 .jupyter-server-log.txt\n",
      "-rw-r--r-- 1 jovyan jovyan 11357 Jul 19 19:15 LICENSE\n",
      "drwxr-xr-x 3 jovyan jovyan  4096 Jul 19 19:22 .local\n",
      "-rw-r--r-- 1 jovyan jovyan  1016 Jul 19 19:15 outline.md\n",
      "-rw-r--r-- 1 jovyan jovyan   807 Apr  4  2018 .profile\n",
      "-rw-r--r-- 1 jovyan jovyan    33 Jul 19 19:15 README.md\n",
      "-rw-r--r-- 1 jovyan jovyan 83766 Jul 19 19:25 WhatIsBinder.ipynb\n",
      "-rw-r--r-- 1 jovyan jovyan 65959 Jul 19 19:15 WhatIsColab.ipynb\n"
     ]
    }
   ],
   "source": [
    "!ls -la"
   ]
  },
  {
   "cell_type": "markdown",
   "metadata": {},
   "source": [
    "Hmmm.  That looks like my GitHub folder is blended with other stuff."
   ]
  },
  {
   "cell_type": "markdown",
   "metadata": {
    "id": "xuhteaJaXMLF"
   },
   "source": [
    "What is in the root (/) folder?"
   ]
  },
  {
   "cell_type": "code",
   "execution_count": 7,
   "metadata": {
    "colab": {
     "base_uri": "https://localhost:8080/"
    },
    "executionInfo": {
     "elapsed": 21,
     "status": "ok",
     "timestamp": 1658255332585,
     "user": {
      "displayName": "Robert Citek",
      "userId": "12069792984466392165"
     },
     "user_tz": 360
    },
    "id": "8GKo8SOTUOvm",
    "outputId": "e5d9c43d-f757-419f-ba20-a691b031a942"
   },
   "outputs": [
    {
     "name": "stdout",
     "output_type": "stream",
     "text": [
      "total 80\n",
      "drwxr-xr-x   1 root root 4096 Jul 19 19:22 .\n",
      "drwxr-xr-x   1 root root 4096 Jul 19 19:22 ..\n",
      "drwxr-xr-x   1 root root 4096 Jun 12 04:06 bin\n",
      "drwxr-xr-x   2 root root 4096 Apr 24  2018 boot\n",
      "drwxr-xr-x   5 root root  360 Jul 19 19:22 dev\n",
      "drwxr-xr-x   1 root root 4096 Jul 19 19:22 etc\n",
      "drwxr-xr-x   1 root root 4096 Jun 12 04:06 home\n",
      "drwxr-xr-x   1 root root 4096 Jun  7 02:07 lib\n",
      "drwxr-xr-x   2 root root 4096 May 31 11:55 lib64\n",
      "drwxr-xr-x   2 root root 4096 May 31 11:54 media\n",
      "drwxr-xr-x   2 root root 4096 May 31 11:54 mnt\n",
      "drwxr-xr-x   2 root root 4096 May 31 11:54 opt\n",
      "dr-xr-xr-x 495 root root    0 Jul 19 19:22 proc\n",
      "drwx------   1 root root 4096 Jun 12 04:11 root\n",
      "drwxr-xr-x   5 root root 4096 May 31 11:55 run\n",
      "drwxr-xr-x   2 root root 4096 May 31 11:55 sbin\n",
      "drwxr-xr-x   1 root root 4096 Jun 12 04:11 srv\n",
      "dr-xr-xr-x  13 root root    0 Jul 19 19:22 sys\n",
      "drwxrwxrwt   1 root root 4096 Jul 19 19:26 tmp\n",
      "drwxr-xr-x   1 root root 4096 May 31 11:54 usr\n",
      "drwxr-xr-x   1 root root 4096 May 31 11:55 var\n"
     ]
    }
   ],
   "source": [
    "!ls -la /"
   ]
  },
  {
   "cell_type": "markdown",
   "metadata": {
    "id": "fvjbD5PcXR6X"
   },
   "source": [
    "What is in /home? "
   ]
  },
  {
   "cell_type": "code",
   "execution_count": 8,
   "metadata": {
    "colab": {
     "base_uri": "https://localhost:8080/"
    },
    "executionInfo": {
     "elapsed": 277,
     "status": "ok",
     "timestamp": 1658255332851,
     "user": {
      "displayName": "Robert Citek",
      "userId": "12069792984466392165"
     },
     "user_tz": 360
    },
    "id": "Dg-XbhuIUQqs",
    "outputId": "20efd214-82e5-4e11-9884-c298c3f6af22"
   },
   "outputs": [
    {
     "name": "stdout",
     "output_type": "stream",
     "text": [
      "total 16\n",
      "drwxr-xr-x 1 root   root   4096 Jun 12 04:06 .\n",
      "drwxr-xr-x 1 root   root   4096 Jul 19 19:22 ..\n",
      "drwxr-xr-x 1 jovyan jovyan 4096 Jul 19 19:25 jovyan\n"
     ]
    }
   ],
   "source": [
    "!ls -la /home"
   ]
  },
  {
   "cell_type": "markdown",
   "metadata": {
    "id": "kwB4djgZpr6G"
   },
   "source": [
    "ok, that suggests that I am the only regular on this system."
   ]
  },
  {
   "cell_type": "markdown",
   "metadata": {
    "id": "bMfJY2odXmAJ"
   },
   "source": [
    "## Process environment"
   ]
  },
  {
   "cell_type": "markdown",
   "metadata": {
    "id": "fCbGSTAxX1z1"
   },
   "source": [
    "What environment variables are set?"
   ]
  },
  {
   "cell_type": "code",
   "execution_count": 9,
   "metadata": {
    "colab": {
     "base_uri": "https://localhost:8080/"
    },
    "executionInfo": {
     "elapsed": 28,
     "status": "ok",
     "timestamp": 1658255332852,
     "user": {
      "displayName": "Robert Citek",
      "userId": "12069792984466392165"
     },
     "user_tz": 360
    },
    "id": "UGNiYPkJX4ae",
    "outputId": "04975ff1-0573-411e-e76b-5a39024f92f4"
   },
   "outputs": [
    {
     "name": "stdout",
     "output_type": "stream",
     "text": [
      "APP_BASE=/srv\n",
      "BINDER_LAUNCH_HOST=https://mybinder.org/\n",
      "BINDER_PERSISTENT_REQUEST=v2/gh/rwcitek/Jupyter/81b6431eaff6d9e03f5d79f170efad87bae60929\n",
      "BINDER_PORT_80_TCP_ADDR=10.3.254.234\n",
      "BINDER_PORT_80_TCP_PORT=80\n",
      "BINDER_PORT_80_TCP_PROTO=tcp\n",
      "BINDER_PORT_80_TCP=tcp://10.3.254.234:80\n",
      "BINDER_PORT=tcp://10.3.254.234:80\n",
      "BINDER_REF_URL=https://github.com/rwcitek/Jupyter/tree/81b6431eaff6d9e03f5d79f170efad87bae60929\n",
      "BINDER_REPO_URL=https://github.com/rwcitek/Jupyter\n",
      "BINDER_REQUEST=v2/gh/rwcitek/Jupyter/HEAD\n",
      "BINDER_SERVICE_HOST=10.3.254.234\n",
      "BINDER_SERVICE_PORT=80\n",
      "_CE_CONDA=\n",
      "_CE_M=\n",
      "CLICOLOR=1\n",
      "CONDA_DEFAULT_ENV=notebook\n",
      "CONDA_DIR=/srv/conda\n",
      "CONDA_EXE=/srv/conda/bin/conda\n",
      "CONDA_PREFIX=/srv/conda/envs/notebook\n",
      "CONDA_PROMPT_MODIFIER=(notebook) \n",
      "CONDA_PYTHON_EXE=/srv/conda/bin/python\n",
      "CONDA_SHLVL=1\n",
      "CPU_GUARANTEE=0.01\n",
      "CPU_LIMIT=1.0\n",
      "DEBIAN_FRONTEND=noninteractive\n",
      "FEDERATION_REDIRECT_PORT_80_TCP_ADDR=10.3.244.205\n",
      "FEDERATION_REDIRECT_PORT_80_TCP_PORT=80\n",
      "FEDERATION_REDIRECT_PORT_80_TCP_PROTO=tcp\n",
      "FEDERATION_REDIRECT_PORT_80_TCP=tcp://10.3.244.205:80\n",
      "FEDERATION_REDIRECT_PORT=tcp://10.3.244.205:80\n",
      "FEDERATION_REDIRECT_SERVICE_HOST=10.3.244.205\n",
      "FEDERATION_REDIRECT_SERVICE_PORT=80\n",
      "GCS_PROXY_PORT_80_TCP_ADDR=10.3.244.175\n",
      "GCS_PROXY_PORT_80_TCP_PORT=80\n",
      "GCS_PROXY_PORT_80_TCP_PROTO=tcp\n",
      "GCS_PROXY_PORT_80_TCP=tcp://10.3.244.175:80\n",
      "GCS_PROXY_PORT=tcp://10.3.244.175:80\n",
      "GCS_PROXY_SERVICE_HOST=10.3.244.175\n",
      "GCS_PROXY_SERVICE_PORT=80\n",
      "GIT_PAGER=cat\n",
      "HOME=/home/jovyan\n",
      "HOSTNAME=jupyter-rwcitek-2djupyter-2de3be3or0\n",
      "HUB_PORT_8081_TCP_ADDR=10.3.250.250\n",
      "HUB_PORT_8081_TCP_PORT=8081\n",
      "HUB_PORT_8081_TCP_PROTO=tcp\n",
      "HUB_PORT_8081_TCP=tcp://10.3.250.250:8081\n",
      "HUB_PORT=tcp://10.3.250.250:8081\n",
      "HUB_SERVICE_HOST=10.3.250.250\n",
      "HUB_SERVICE_PORT=8081\n",
      "HUB_SERVICE_PORT_HUB=8081\n",
      "JPY_API_TOKEN=7757ffe0e6d54869ba536d7efb0030b5\n",
      "JPY_PARENT_PID=25\n",
      "JUPYTERHUB_ACTIVITY_URL=http://hub:8081/hub/api/users/rwcitek-jupyter-e3be3or0/activity\n",
      "JUPYTERHUB_ADMIN_ACCESS=1\n",
      "JUPYTERHUB_API_TOKEN=7757ffe0e6d54869ba536d7efb0030b5\n",
      "JUPYTERHUB_API_URL=http://hub:8081/hub/api\n",
      "JUPYTERHUB_BASE_URL=/\n",
      "JUPYTERHUB_CLIENT_ID=jupyterhub-user-rwcitek-jupyter-e3be3or0\n",
      "JUPYTERHUB_HOST=\n",
      "JUPYTERHUB_OAUTH_CALLBACK_URL=/user/rwcitek-jupyter-e3be3or0/oauth_callback\n",
      "JUPYTERHUB_SERVER_NAME=\n",
      "JUPYTERHUB_SERVICE_PREFIX=/user/rwcitek-jupyter-e3be3or0/\n",
      "JUPYTERHUB_USER=rwcitek-jupyter-e3be3or0\n",
      "JUPYTER_IMAGE=gcr.io/binderhub-288415/r2d-staging-g5b5b759-rwcitek-2djupyter-4734d5:81b6431eaff6d9e03f5d79f170efad87bae60929\n",
      "JUPYTER_IMAGE_SPEC=gcr.io/binderhub-288415/r2d-staging-g5b5b759-rwcitek-2djupyter-4734d5:81b6431eaff6d9e03f5d79f170efad87bae60929\n",
      "KERNEL_PYTHON_PREFIX=/srv/conda/envs/notebook\n",
      "KUBERNETES_PORT_443_TCP_ADDR=10.3.240.1\n",
      "KUBERNETES_PORT_443_TCP_PORT=443\n",
      "KUBERNETES_PORT_443_TCP_PROTO=tcp\n",
      "KUBERNETES_PORT_443_TCP=tcp://10.3.240.1:443\n",
      "KUBERNETES_PORT=tcp://10.3.240.1:443\n",
      "KUBERNETES_SERVICE_HOST=10.3.240.1\n",
      "KUBERNETES_SERVICE_PORT=443\n",
      "KUBERNETES_SERVICE_PORT_HTTPS=443\n",
      "LANG=en_US.UTF-8\n",
      "LANGUAGE=en_US.UTF-8\n",
      "LC_ALL=en_US.UTF-8\n",
      "MAMBA_EXE=/srv/conda/bin/mamba\n",
      "MAMBA_ROOT_PREFIX=/srv/conda\n",
      "MATOMO_PORT_9000_TCP_ADDR=10.3.248.239\n",
      "MATOMO_PORT_9000_TCP_PORT=9000\n",
      "MATOMO_PORT_9000_TCP_PROTO=tcp\n",
      "MATOMO_PORT_9000_TCP=tcp://10.3.248.239:9000\n",
      "MATOMO_PORT=tcp://10.3.248.239:9000\n",
      "MATOMO_SERVICE_HOST=10.3.248.239\n",
      "MATOMO_SERVICE_PORT=9000\n",
      "MATOMO_SERVICE_PORT_MATOMO=9000\n",
      "MEM_GUARANTEE=471859200\n",
      "MEM_LIMIT=2147483648\n",
      "MPLBACKEND=module://matplotlib_inline.backend_inline\n",
      "NB_ENVIRONMENT_FILE=/tmp/env/environment.lock\n",
      "NB_PYTHON_PREFIX=/srv/conda/envs/notebook\n",
      "NPM_CONFIG_GLOBALCONFIG=/srv/npm/npmrc\n",
      "NPM_DIR=/srv/npm\n",
      "PAGER=cat\n",
      "PATH=/srv/conda/envs/notebook/bin:/srv/conda/condabin:/home/jovyan/.local/bin:/home/jovyan/.local/bin:/srv/conda/envs/notebook/bin:/srv/conda/bin:/srv/npm/bin:/usr/local/sbin:/usr/local/bin:/usr/sbin:/usr/bin:/sbin:/bin\n",
      "PROD_GRAFANA_PORT_80_TCP_ADDR=10.3.249.119\n",
      "PROD_GRAFANA_PORT_80_TCP_PORT=80\n",
      "PROD_GRAFANA_PORT_80_TCP_PROTO=tcp\n",
      "PROD_GRAFANA_PORT_80_TCP=tcp://10.3.249.119:80\n",
      "PROD_GRAFANA_PORT=tcp://10.3.249.119:80\n",
      "PROD_GRAFANA_SERVICE_HOST=10.3.249.119\n",
      "PROD_GRAFANA_SERVICE_PORT=80\n",
      "PROD_GRAFANA_SERVICE_PORT_SERVICE=80\n",
      "PROD_INGRESS_NGINX_CONTROLLER_METRICS_PORT_10254_TCP_ADDR=10.3.249.104\n",
      "PROD_INGRESS_NGINX_CONTROLLER_METRICS_PORT_10254_TCP_PORT=10254\n",
      "PROD_INGRESS_NGINX_CONTROLLER_METRICS_PORT_10254_TCP_PROTO=tcp\n",
      "PROD_INGRESS_NGINX_CONTROLLER_METRICS_PORT_10254_TCP=tcp://10.3.249.104:10254\n",
      "PROD_INGRESS_NGINX_CONTROLLER_METRICS_PORT=tcp://10.3.249.104:10254\n",
      "PROD_INGRESS_NGINX_CONTROLLER_METRICS_SERVICE_HOST=10.3.249.104\n",
      "PROD_INGRESS_NGINX_CONTROLLER_METRICS_SERVICE_PORT=10254\n",
      "PROD_INGRESS_NGINX_CONTROLLER_METRICS_SERVICE_PORT_METRICS=10254\n",
      "PROD_INGRESS_NGINX_CONTROLLER_PORT_443_TCP_ADDR=10.3.247.70\n",
      "PROD_INGRESS_NGINX_CONTROLLER_PORT_443_TCP_PORT=443\n",
      "PROD_INGRESS_NGINX_CONTROLLER_PORT_443_TCP_PROTO=tcp\n",
      "PROD_INGRESS_NGINX_CONTROLLER_PORT_443_TCP=tcp://10.3.247.70:443\n",
      "PROD_INGRESS_NGINX_CONTROLLER_PORT_80_TCP_ADDR=10.3.247.70\n",
      "PROD_INGRESS_NGINX_CONTROLLER_PORT_80_TCP_PORT=80\n",
      "PROD_INGRESS_NGINX_CONTROLLER_PORT_80_TCP_PROTO=tcp\n",
      "PROD_INGRESS_NGINX_CONTROLLER_PORT_80_TCP=tcp://10.3.247.70:80\n",
      "PROD_INGRESS_NGINX_CONTROLLER_PORT=tcp://10.3.247.70:80\n",
      "PROD_INGRESS_NGINX_CONTROLLER_SERVICE_HOST=10.3.247.70\n",
      "PROD_INGRESS_NGINX_CONTROLLER_SERVICE_PORT=80\n",
      "PROD_INGRESS_NGINX_CONTROLLER_SERVICE_PORT_HTTP=80\n",
      "PROD_INGRESS_NGINX_CONTROLLER_SERVICE_PORT_HTTPS=443\n",
      "PROD_INGRESS_NGINX_DEFAULTBACKEND_PORT_80_TCP_ADDR=10.3.249.179\n",
      "PROD_INGRESS_NGINX_DEFAULTBACKEND_PORT_80_TCP_PORT=80\n",
      "PROD_INGRESS_NGINX_DEFAULTBACKEND_PORT_80_TCP_PROTO=tcp\n",
      "PROD_INGRESS_NGINX_DEFAULTBACKEND_PORT_80_TCP=tcp://10.3.249.179:80\n",
      "PROD_INGRESS_NGINX_DEFAULTBACKEND_PORT=tcp://10.3.249.179:80\n",
      "PROD_INGRESS_NGINX_DEFAULTBACKEND_SERVICE_HOST=10.3.249.179\n",
      "PROD_INGRESS_NGINX_DEFAULTBACKEND_SERVICE_PORT=80\n",
      "PROD_INGRESS_NGINX_DEFAULTBACKEND_SERVICE_PORT_HTTP=80\n",
      "PROD_KUBE_STATE_METRICS_PORT_8080_TCP_ADDR=10.3.243.113\n",
      "PROD_KUBE_STATE_METRICS_PORT_8080_TCP_PORT=8080\n",
      "PROD_KUBE_STATE_METRICS_PORT_8080_TCP_PROTO=tcp\n",
      "PROD_KUBE_STATE_METRICS_PORT_8080_TCP=tcp://10.3.243.113:8080\n",
      "PROD_KUBE_STATE_METRICS_PORT=tcp://10.3.243.113:8080\n",
      "PROD_KUBE_STATE_METRICS_SERVICE_HOST=10.3.243.113\n",
      "PROD_KUBE_STATE_METRICS_SERVICE_PORT=8080\n",
      "PROD_KUBE_STATE_METRICS_SERVICE_PORT_HTTP=8080\n",
      "PROD_PROMETHEUS_SERVER_PORT_80_TCP_ADDR=10.3.241.169\n",
      "PROD_PROMETHEUS_SERVER_PORT_80_TCP_PORT=80\n",
      "PROD_PROMETHEUS_SERVER_PORT_80_TCP_PROTO=tcp\n",
      "PROD_PROMETHEUS_SERVER_PORT_80_TCP=tcp://10.3.241.169:80\n",
      "PROD_PROMETHEUS_SERVER_PORT=tcp://10.3.241.169:80\n",
      "PROD_PROMETHEUS_SERVER_SERVICE_HOST=10.3.241.169\n",
      "PROD_PROMETHEUS_SERVER_SERVICE_PORT=80\n",
      "PROD_PROMETHEUS_SERVER_SERVICE_PORT_HTTP=80\n",
      "PROXY_API_PORT_8001_TCP_ADDR=10.3.244.201\n",
      "PROXY_API_PORT_8001_TCP_PORT=8001\n",
      "PROXY_API_PORT_8001_TCP_PROTO=tcp\n",
      "PROXY_API_PORT_8001_TCP=tcp://10.3.244.201:8001\n",
      "PROXY_API_PORT=tcp://10.3.244.201:8001\n",
      "PROXY_API_SERVICE_HOST=10.3.244.201\n",
      "PROXY_API_SERVICE_PORT=8001\n",
      "PROXY_PATCHES_PORT_80_TCP_ADDR=10.3.249.118\n",
      "PROXY_PATCHES_PORT_80_TCP_PORT=80\n",
      "PROXY_PATCHES_PORT_80_TCP_PROTO=tcp\n",
      "PROXY_PATCHES_PORT_80_TCP=tcp://10.3.249.118:80\n",
      "PROXY_PATCHES_PORT=tcp://10.3.249.118:80\n",
      "PROXY_PATCHES_SERVICE_HOST=10.3.249.118\n",
      "PROXY_PATCHES_SERVICE_PORT=80\n",
      "PROXY_PUBLIC_PORT_80_TCP_ADDR=10.3.244.15\n",
      "PROXY_PUBLIC_PORT_80_TCP_PORT=80\n",
      "PROXY_PUBLIC_PORT_80_TCP_PROTO=tcp\n",
      "PROXY_PUBLIC_PORT_80_TCP=tcp://10.3.244.15:80\n",
      "PROXY_PUBLIC_PORT=tcp://10.3.244.15:80\n",
      "PROXY_PUBLIC_SERVICE_HOST=10.3.244.15\n",
      "PROXY_PUBLIC_SERVICE_PORT=80\n",
      "PROXY_PUBLIC_SERVICE_PORT_HTTP=80\n",
      "PWD=/home/jovyan\n",
      "PYDEVD_USE_FRAME_EVAL=NO\n",
      "PYTHONUNBUFFERED=1\n",
      "REDIRECTOR_PORT_80_TCP_ADDR=10.3.245.207\n",
      "REDIRECTOR_PORT_80_TCP_PORT=80\n",
      "REDIRECTOR_PORT_80_TCP_PROTO=tcp\n",
      "REDIRECTOR_PORT_80_TCP=tcp://10.3.245.207:80\n",
      "REDIRECTOR_PORT=tcp://10.3.245.207:80\n",
      "REDIRECTOR_SERVICE_HOST=10.3.245.207\n",
      "REDIRECTOR_SERVICE_PORT=80\n",
      "REPO_DIR=/home/jovyan\n",
      "SHELL=/bin/bash\n",
      "SHLVL=1\n",
      "TERM=xterm-color\n",
      "USER=jovyan\n",
      "_=/usr/bin/env\n"
     ]
    }
   ],
   "source": [
    "!env | sort"
   ]
  },
  {
   "cell_type": "markdown",
   "metadata": {
    "id": "g3NYp_u6YvFa"
   },
   "source": [
    "What processes are running?"
   ]
  },
  {
   "cell_type": "code",
   "execution_count": 10,
   "metadata": {
    "colab": {
     "base_uri": "https://localhost:8080/"
    },
    "executionInfo": {
     "elapsed": 244,
     "status": "ok",
     "timestamp": 1658255333084,
     "user": {
      "displayName": "Robert Citek",
      "userId": "12069792984466392165"
     },
     "user_tz": 360
    },
    "id": "1GGZypqYYukR",
    "outputId": "41bddbbb-7b10-4dca-83dd-563f2341853f"
   },
   "outputs": [
    {
     "name": "stdout",
     "output_type": "stream",
     "text": [
      "USER         PID %CPU %MEM    VSZ   RSS TTY      STAT START   TIME COMMAND\n",
      "jovyan         1  0.0  0.0  30152 11328 ?        Ss   19:22   0:00 python3 -u /usr/local/bin/repo2docker-entrypoint python3 -c import os import sys  try:     import jupyterlab     major = int(jupyterlab.__version__.split(\".\", 1)[0]) except Exception:     have_lab = False else:     have_lab = major >= 3  if have_lab:     # if recent-enough lab is available, make it the default UI     sys.argv.insert(1, \"--NotebookApp.default_url=/lab/\")  # launch the notebook server os.execvp(\"jupyter-notebook\", sys.argv)  --ip=0.0.0.0 --port=8888 --NotebookApp.base_url=/user/rwcitek-jupyter-e3be3or0/ --NotebookApp.token=zXaL77KSTo2q2M8QHp094A --NotebookApp.trust_xheaders=True --NotebookApp.allow_origin=* --NotebookApp.allow_origin_pat=.*\n",
      "jovyan        25  1.3  0.1 341456 98256 ?        Sl   19:22   0:04 /srv/conda/envs/notebook/bin/python3.7 /srv/conda/envs/notebook/bin/jupyter-notebook --NotebookApp.default_url=/lab/ --ip=0.0.0.0 --port=8888 --NotebookApp.base_url=/user/rwcitek-jupyter-e3be3or0/ --NotebookApp.token=zXaL77KSTo2q2M8QHp094A --NotebookApp.trust_xheaders=True --NotebookApp.allow_origin=* --NotebookApp.allow_origin_pat=.*\n",
      "jovyan        96  2.2  0.1 769824 63376 ?        Ssl  19:26   0:00  \\_ /srv/conda/envs/notebook/bin/python -m ipykernel_launcher -f /home/jovyan/.local/share/jupyter/runtime/kernel-c90164ec-d6f1-4eb8-a764-566402cc275c.json\n",
      "jovyan       126 59.0  0.0  11600  3232 pts/0    Ss+  19:27   0:00      \\_ /bin/bash -c ps faux | cat  # the pipe to cat is needed so that output does not get truncated.\n",
      "jovyan       127  0.0  0.0  36084  3308 pts/0    R+   19:27   0:00          \\_ ps faux\n",
      "jovyan       128  0.0  0.0   6324   880 pts/0    S+   19:27   0:00          \\_ cat\n"
     ]
    }
   ],
   "source": [
    "!ps faux | cat  # the pipe to cat is needed so that output does not get truncated."
   ]
  },
  {
   "cell_type": "markdown",
   "metadata": {
    "id": "Yb1zDtnpZntS"
   },
   "source": [
    "Looks like this is a Docker container."
   ]
  },
  {
   "cell_type": "code",
   "execution_count": 11,
   "metadata": {
    "executionInfo": {
     "elapsed": 18,
     "status": "ok",
     "timestamp": 1658255333086,
     "user": {
      "displayName": "Robert Citek",
      "userId": "12069792984466392165"
     },
     "user_tz": 360
    },
    "id": "G1UsdCHWSv62"
   },
   "outputs": [
    {
     "name": "stdout",
     "output_type": "stream",
     "text": [
      "     1\t#!/usr/local/bin/python3-login\n",
      "     2\t# note: must run on Python >= 3.5, which mainly means no f-strings\n",
      "     3\t\n",
      "     4\t# goals:\n",
      "     5\t# - load environment variables from a login shell (bash -l)\n",
      "     6\t# - preserve signal handling of subprocess (kill -TERM and friends)\n",
      "     7\t# - tee output to a log file\n",
      "     8\t\n",
      "     9\timport fcntl\n",
      "    10\timport os\n",
      "    11\timport select\n",
      "    12\timport signal\n",
      "    13\timport subprocess\n",
      "    14\timport sys\n",
      "    15\timport tempfile\n",
      "    16\t\n",
      "    17\t# output chunk size to read\n",
      "    18\tCHUNK_SIZE = 1024\n",
      "    19\t\n",
      "    20\t# signals to be forwarded to the child\n",
      "    21\t# everything catchable, excluding SIGCHLD\n",
      "    22\tSIGNALS = set(signal.Signals) - {signal.SIGKILL, signal.SIGSTOP, signal.SIGCHLD}\n",
      "    23\t\n",
      "    24\t\n",
      "    25\tdef main():\n",
      "    26\t\n",
      "    27\t    # open log file to send output to;\n",
      "    28\t    # preferred location of log file is:\n",
      "    29\t    #  1. REPO_DIR env variable\n",
      "    30\t    #  2. current working directory: \".\"\n",
      "    31\t    #  3. default temp directory for the OS (e.g. /tmp for linux)\n",
      "    32\t    log_dirs = [\".\", tempfile.gettempdir()]\n",
      "    33\t    log_file = None\n",
      "    34\t    if \"REPO_DIR\" in os.environ:\n",
      "    35\t        log_dirs.insert(0, os.environ[\"REPO_DIR\"])\n",
      "    36\t    for d in log_dirs:\n",
      "    37\t        log_path = os.path.join(d, \".jupyter-server-log.txt\")\n",
      "    38\t        try:\n",
      "    39\t            log_file = open(log_path, \"ab\")\n",
      "    40\t        except Exception:\n",
      "    41\t            continue\n",
      "    42\t        else:\n",
      "    43\t            # success\n",
      "    44\t            break\n",
      "    45\t    # raise Exception if log_file could not be set\n",
      "    46\t    if log_file is None:\n",
      "    47\t        raise Exception(\"Could not open '.jupyter-server-log.txt' log file \" )\n",
      "    48\t\n",
      "    49\t    # build the command\n",
      "    50\t    # like `exec \"$@\"`\n",
      "    51\t    command = sys.argv[1:]\n",
      "    52\t    # load entrypoint override from env\n",
      "    53\t    r2d_entrypoint = os.environ.get(\"R2D_ENTRYPOINT\")\n",
      "    54\t    if r2d_entrypoint:\n",
      "    55\t        command.insert(0, r2d_entrypoint)\n",
      "    56\t\n",
      "    57\t    # launch the subprocess\n",
      "    58\t    child = subprocess.Popen(\n",
      "    59\t        command,\n",
      "    60\t        bufsize=1,\n",
      "    61\t        stdout=subprocess.PIPE,\n",
      "    62\t        stderr=subprocess.STDOUT,\n",
      "    63\t    )\n",
      "    64\t\n",
      "    65\t    # hook up ~all signals so that every signal the parent gets,\n",
      "    66\t    # the children also get\n",
      "    67\t\n",
      "    68\t    def relay_signal(sig, frame):\n",
      "    69\t        \"\"\"Relay a signal to children\"\"\"\n",
      "    70\t        # DEBUG: show signal\n",
      "    71\t        child.send_signal(sig)\n",
      "    72\t\n",
      "    73\t    for signum in SIGNALS:\n",
      "    74\t        signal.signal(signum, relay_signal)\n",
      "    75\t\n",
      "    76\t    # tee output from child to both our stdout and the log file\n",
      "    77\t    def tee(chunk):\n",
      "    78\t        \"\"\"Tee output from child to both our stdout and the log file\"\"\"\n",
      "    79\t        for f in [sys.stdout.buffer, log_file]:\n",
      "    80\t            f.write(chunk)\n",
      "    81\t            f.flush()\n",
      "    82\t\n",
      "    83\t    # make stdout pipe non-blocking\n",
      "    84\t    # this means child.stdout.read(nbytes)\n",
      "    85\t    # will always return immediately, even if there's nothing to read\n",
      "    86\t    flags = fcntl.fcntl(child.stdout, fcntl.F_GETFL)\n",
      "    87\t    fcntl.fcntl(child.stdout, fcntl.F_SETFL, flags | os.O_NONBLOCK)\n",
      "    88\t    poller = select.poll()\n",
      "    89\t    poller.register(child.stdout)\n",
      "    90\t\n",
      "    91\t    # while child is running, constantly relay output\n",
      "    92\t    while child.poll() is None:\n",
      "    93\t        chunk = child.stdout.read(CHUNK_SIZE)\n",
      "    94\t        if chunk:\n",
      "    95\t            tee(chunk)\n",
      "    96\t        else:\n",
      "    97\t            # empty chunk means nothing to read\n",
      "    98\t            # wait for output on the pipe\n",
      "    99\t            # timeout is in milliseconds\n",
      "   100\t            poller.poll(1000)\n",
      "   101\t\n",
      "   102\t    # child has exited, continue relaying any remaining output\n",
      "   103\t    # At this point, read() will return an empty string when it's done\n",
      "   104\t    chunk = child.stdout.read()\n",
      "   105\t    while chunk:\n",
      "   106\t        tee(chunk)\n",
      "   107\t        chunk = child.stdout.read()\n",
      "   108\t\n",
      "   109\t    # make our returncode match the child's returncode\n",
      "   110\t    sys.exit(child.returncode)\n",
      "   111\t\n",
      "   112\t\n",
      "   113\tif __name__ == \"__main__\":\n",
      "   114\t    main()\n"
     ]
    }
   ],
   "source": [
    "!cat -n /usr/local/bin/repo2docker-entrypoint"
   ]
  },
  {
   "cell_type": "markdown",
   "metadata": {
    "id": "zqBnF4dFTR_x"
   },
   "source": [
    "\n",
    "What processes are listening on TCP ports?"
   ]
  },
  {
   "cell_type": "code",
   "execution_count": 12,
   "metadata": {
    "colab": {
     "base_uri": "https://localhost:8080/"
    },
    "executionInfo": {
     "elapsed": 266,
     "status": "ok",
     "timestamp": 1658255333336,
     "user": {
      "displayName": "Robert Citek",
      "userId": "12069792984466392165"
     },
     "user_tz": 360
    },
    "id": "66jAh1CKQ0xU",
    "outputId": "c2204e1d-88d1-42ad-d628-4c2bc71de788"
   },
   "outputs": [
    {
     "name": "stdout",
     "output_type": "stream",
     "text": [
      "/bin/bash: netstat: command not found\n"
     ]
    }
   ],
   "source": [
    "!netstat -plnt"
   ]
  },
  {
   "cell_type": "markdown",
   "metadata": {
    "id": "5r6kqTttZtGa"
   },
   "source": [
    "Bummer that netstat is not installed.\n"
   ]
  },
  {
   "cell_type": "markdown",
   "metadata": {
    "id": "sF_4oID29l3-"
   },
   "source": [
    "## Hardware\n",
    "CPUs\n"
   ]
  },
  {
   "cell_type": "code",
   "execution_count": 13,
   "metadata": {
    "colab": {
     "base_uri": "https://localhost:8080/"
    },
    "executionInfo": {
     "elapsed": 28,
     "status": "ok",
     "timestamp": 1658255333344,
     "user": {
      "displayName": "Robert Citek",
      "userId": "12069792984466392165"
     },
     "user_tz": 360
    },
    "id": "-OiITYB89pm-",
    "outputId": "55b7813b-22fe-4f8a-cfe1-d5ece9b691ed"
   },
   "outputs": [
    {
     "name": "stdout",
     "output_type": "stream",
     "text": [
      "processor\t: 0\n",
      "vendor_id\t: GenuineIntel\n",
      "cpu family\t: 6\n",
      "model\t\t: 63\n",
      "model name\t: Intel(R) Xeon(R) CPU @ 2.30GHz\n",
      "stepping\t: 0\n",
      "microcode\t: 0x1\n",
      "cpu MHz\t\t: 2299.998\n",
      "cache size\t: 46080 KB\n",
      "physical id\t: 0\n",
      "siblings\t: 8\n",
      "core id\t\t: 0\n",
      "cpu cores\t: 4\n",
      "apicid\t\t: 0\n",
      "initial apicid\t: 0\n",
      "fpu\t\t: yes\n",
      "fpu_exception\t: yes\n",
      "cpuid level\t: 13\n",
      "wp\t\t: yes\n",
      "flags\t\t: fpu vme de pse tsc msr pae mce cx8 apic sep mtrr pge mca cmov pat pse36 clflush mmx fxsr sse sse2 ss ht syscall nx pdpe1gb rdtscp lm constant_tsc rep_good nopl xtopology nonstop_tsc cpuid tsc_known_freq pni pclmulqdq ssse3 fma cx16 pcid sse4_1 sse4_2 x2apic movbe popcnt aes xsave avx f16c rdrand hypervisor lahf_lm abm invpcid_single pti ssbd ibrs ibpb stibp fsgsbase tsc_adjust bmi1 avx2 smep bmi2 erms invpcid xsaveopt arat md_clear arch_capabilities\n",
      "bugs\t\t: cpu_meltdown spectre_v1 spectre_v2 spec_store_bypass l1tf mds swapgs\n",
      "bogomips\t: 4599.99\n",
      "clflush size\t: 64\n",
      "cache_alignment\t: 64\n",
      "address sizes\t: 46 bits physical, 48 bits virtual\n",
      "power management:\n",
      "\n",
      "processor\t: 1\n",
      "vendor_id\t: GenuineIntel\n",
      "cpu family\t: 6\n",
      "model\t\t: 63\n",
      "model name\t: Intel(R) Xeon(R) CPU @ 2.30GHz\n",
      "stepping\t: 0\n",
      "microcode\t: 0x1\n",
      "cpu MHz\t\t: 2299.998\n",
      "cache size\t: 46080 KB\n",
      "physical id\t: 0\n",
      "siblings\t: 8\n",
      "core id\t\t: 1\n",
      "cpu cores\t: 4\n",
      "apicid\t\t: 2\n",
      "initial apicid\t: 2\n",
      "fpu\t\t: yes\n",
      "fpu_exception\t: yes\n",
      "cpuid level\t: 13\n",
      "wp\t\t: yes\n",
      "flags\t\t: fpu vme de pse tsc msr pae mce cx8 apic sep mtrr pge mca cmov pat pse36 clflush mmx fxsr sse sse2 ss ht syscall nx pdpe1gb rdtscp lm constant_tsc rep_good nopl xtopology nonstop_tsc cpuid tsc_known_freq pni pclmulqdq ssse3 fma cx16 pcid sse4_1 sse4_2 x2apic movbe popcnt aes xsave avx f16c rdrand hypervisor lahf_lm abm invpcid_single pti ssbd ibrs ibpb stibp fsgsbase tsc_adjust bmi1 avx2 smep bmi2 erms invpcid xsaveopt arat md_clear arch_capabilities\n",
      "bugs\t\t: cpu_meltdown spectre_v1 spectre_v2 spec_store_bypass l1tf mds swapgs\n",
      "bogomips\t: 4599.99\n",
      "clflush size\t: 64\n",
      "cache_alignment\t: 64\n",
      "address sizes\t: 46 bits physical, 48 bits virtual\n",
      "power management:\n",
      "\n",
      "processor\t: 2\n",
      "vendor_id\t: GenuineIntel\n",
      "cpu family\t: 6\n",
      "model\t\t: 63\n",
      "model name\t: Intel(R) Xeon(R) CPU @ 2.30GHz\n",
      "stepping\t: 0\n",
      "microcode\t: 0x1\n",
      "cpu MHz\t\t: 2299.998\n",
      "cache size\t: 46080 KB\n",
      "physical id\t: 0\n",
      "siblings\t: 8\n",
      "core id\t\t: 2\n",
      "cpu cores\t: 4\n",
      "apicid\t\t: 4\n",
      "initial apicid\t: 4\n",
      "fpu\t\t: yes\n",
      "fpu_exception\t: yes\n",
      "cpuid level\t: 13\n",
      "wp\t\t: yes\n",
      "flags\t\t: fpu vme de pse tsc msr pae mce cx8 apic sep mtrr pge mca cmov pat pse36 clflush mmx fxsr sse sse2 ss ht syscall nx pdpe1gb rdtscp lm constant_tsc rep_good nopl xtopology nonstop_tsc cpuid tsc_known_freq pni pclmulqdq ssse3 fma cx16 pcid sse4_1 sse4_2 x2apic movbe popcnt aes xsave avx f16c rdrand hypervisor lahf_lm abm invpcid_single pti ssbd ibrs ibpb stibp fsgsbase tsc_adjust bmi1 avx2 smep bmi2 erms invpcid xsaveopt arat md_clear arch_capabilities\n",
      "bugs\t\t: cpu_meltdown spectre_v1 spectre_v2 spec_store_bypass l1tf mds swapgs\n",
      "bogomips\t: 4599.99\n",
      "clflush size\t: 64\n",
      "cache_alignment\t: 64\n",
      "address sizes\t: 46 bits physical, 48 bits virtual\n",
      "power management:\n",
      "\n",
      "processor\t: 3\n",
      "vendor_id\t: GenuineIntel\n",
      "cpu family\t: 6\n",
      "model\t\t: 63\n",
      "model name\t: Intel(R) Xeon(R) CPU @ 2.30GHz\n",
      "stepping\t: 0\n",
      "microcode\t: 0x1\n",
      "cpu MHz\t\t: 2299.998\n",
      "cache size\t: 46080 KB\n",
      "physical id\t: 0\n",
      "siblings\t: 8\n",
      "core id\t\t: 3\n",
      "cpu cores\t: 4\n",
      "apicid\t\t: 6\n",
      "initial apicid\t: 6\n",
      "fpu\t\t: yes\n",
      "fpu_exception\t: yes\n",
      "cpuid level\t: 13\n",
      "wp\t\t: yes\n",
      "flags\t\t: fpu vme de pse tsc msr pae mce cx8 apic sep mtrr pge mca cmov pat pse36 clflush mmx fxsr sse sse2 ss ht syscall nx pdpe1gb rdtscp lm constant_tsc rep_good nopl xtopology nonstop_tsc cpuid tsc_known_freq pni pclmulqdq ssse3 fma cx16 pcid sse4_1 sse4_2 x2apic movbe popcnt aes xsave avx f16c rdrand hypervisor lahf_lm abm invpcid_single pti ssbd ibrs ibpb stibp fsgsbase tsc_adjust bmi1 avx2 smep bmi2 erms invpcid xsaveopt arat md_clear arch_capabilities\n",
      "bugs\t\t: cpu_meltdown spectre_v1 spectre_v2 spec_store_bypass l1tf mds swapgs\n",
      "bogomips\t: 4599.99\n",
      "clflush size\t: 64\n",
      "cache_alignment\t: 64\n",
      "address sizes\t: 46 bits physical, 48 bits virtual\n",
      "power management:\n",
      "\n",
      "processor\t: 4\n",
      "vendor_id\t: GenuineIntel\n",
      "cpu family\t: 6\n",
      "model\t\t: 63\n",
      "model name\t: Intel(R) Xeon(R) CPU @ 2.30GHz\n",
      "stepping\t: 0\n",
      "microcode\t: 0x1\n",
      "cpu MHz\t\t: 2299.998\n",
      "cache size\t: 46080 KB\n",
      "physical id\t: 0\n",
      "siblings\t: 8\n",
      "core id\t\t: 0\n",
      "cpu cores\t: 4\n",
      "apicid\t\t: 1\n",
      "initial apicid\t: 1\n",
      "fpu\t\t: yes\n",
      "fpu_exception\t: yes\n",
      "cpuid level\t: 13\n",
      "wp\t\t: yes\n",
      "flags\t\t: fpu vme de pse tsc msr pae mce cx8 apic sep mtrr pge mca cmov pat pse36 clflush mmx fxsr sse sse2 ss ht syscall nx pdpe1gb rdtscp lm constant_tsc rep_good nopl xtopology nonstop_tsc cpuid tsc_known_freq pni pclmulqdq ssse3 fma cx16 pcid sse4_1 sse4_2 x2apic movbe popcnt aes xsave avx f16c rdrand hypervisor lahf_lm abm invpcid_single pti ssbd ibrs ibpb stibp fsgsbase tsc_adjust bmi1 avx2 smep bmi2 erms invpcid xsaveopt arat md_clear arch_capabilities\n",
      "bugs\t\t: cpu_meltdown spectre_v1 spectre_v2 spec_store_bypass l1tf mds swapgs\n",
      "bogomips\t: 4599.99\n",
      "clflush size\t: 64\n",
      "cache_alignment\t: 64\n",
      "address sizes\t: 46 bits physical, 48 bits virtual\n",
      "power management:\n",
      "\n",
      "processor\t: 5\n",
      "vendor_id\t: GenuineIntel\n",
      "cpu family\t: 6\n",
      "model\t\t: 63\n",
      "model name\t: Intel(R) Xeon(R) CPU @ 2.30GHz\n",
      "stepping\t: 0\n",
      "microcode\t: 0x1\n",
      "cpu MHz\t\t: 2299.998\n",
      "cache size\t: 46080 KB\n",
      "physical id\t: 0\n",
      "siblings\t: 8\n",
      "core id\t\t: 1\n",
      "cpu cores\t: 4\n",
      "apicid\t\t: 3\n",
      "initial apicid\t: 3\n",
      "fpu\t\t: yes\n",
      "fpu_exception\t: yes\n",
      "cpuid level\t: 13\n",
      "wp\t\t: yes\n",
      "flags\t\t: fpu vme de pse tsc msr pae mce cx8 apic sep mtrr pge mca cmov pat pse36 clflush mmx fxsr sse sse2 ss ht syscall nx pdpe1gb rdtscp lm constant_tsc rep_good nopl xtopology nonstop_tsc cpuid tsc_known_freq pni pclmulqdq ssse3 fma cx16 pcid sse4_1 sse4_2 x2apic movbe popcnt aes xsave avx f16c rdrand hypervisor lahf_lm abm invpcid_single pti ssbd ibrs ibpb stibp fsgsbase tsc_adjust bmi1 avx2 smep bmi2 erms invpcid xsaveopt arat md_clear arch_capabilities\n",
      "bugs\t\t: cpu_meltdown spectre_v1 spectre_v2 spec_store_bypass l1tf mds swapgs\n",
      "bogomips\t: 4599.99\n",
      "clflush size\t: 64\n",
      "cache_alignment\t: 64\n",
      "address sizes\t: 46 bits physical, 48 bits virtual\n",
      "power management:\n",
      "\n",
      "processor\t: 6\n",
      "vendor_id\t: GenuineIntel\n",
      "cpu family\t: 6\n",
      "model\t\t: 63\n",
      "model name\t: Intel(R) Xeon(R) CPU @ 2.30GHz\n",
      "stepping\t: 0\n",
      "microcode\t: 0x1\n",
      "cpu MHz\t\t: 2299.998\n",
      "cache size\t: 46080 KB\n",
      "physical id\t: 0\n",
      "siblings\t: 8\n",
      "core id\t\t: 2\n",
      "cpu cores\t: 4\n",
      "apicid\t\t: 5\n",
      "initial apicid\t: 5\n",
      "fpu\t\t: yes\n",
      "fpu_exception\t: yes\n",
      "cpuid level\t: 13\n",
      "wp\t\t: yes\n",
      "flags\t\t: fpu vme de pse tsc msr pae mce cx8 apic sep mtrr pge mca cmov pat pse36 clflush mmx fxsr sse sse2 ss ht syscall nx pdpe1gb rdtscp lm constant_tsc rep_good nopl xtopology nonstop_tsc cpuid tsc_known_freq pni pclmulqdq ssse3 fma cx16 pcid sse4_1 sse4_2 x2apic movbe popcnt aes xsave avx f16c rdrand hypervisor lahf_lm abm invpcid_single pti ssbd ibrs ibpb stibp fsgsbase tsc_adjust bmi1 avx2 smep bmi2 erms invpcid xsaveopt arat md_clear arch_capabilities\n",
      "bugs\t\t: cpu_meltdown spectre_v1 spectre_v2 spec_store_bypass l1tf mds swapgs\n",
      "bogomips\t: 4599.99\n",
      "clflush size\t: 64\n",
      "cache_alignment\t: 64\n",
      "address sizes\t: 46 bits physical, 48 bits virtual\n",
      "power management:\n",
      "\n",
      "processor\t: 7\n",
      "vendor_id\t: GenuineIntel\n",
      "cpu family\t: 6\n",
      "model\t\t: 63\n",
      "model name\t: Intel(R) Xeon(R) CPU @ 2.30GHz\n",
      "stepping\t: 0\n",
      "microcode\t: 0x1\n",
      "cpu MHz\t\t: 2299.998\n",
      "cache size\t: 46080 KB\n",
      "physical id\t: 0\n",
      "siblings\t: 8\n",
      "core id\t\t: 3\n",
      "cpu cores\t: 4\n",
      "apicid\t\t: 7\n",
      "initial apicid\t: 7\n",
      "fpu\t\t: yes\n",
      "fpu_exception\t: yes\n",
      "cpuid level\t: 13\n",
      "wp\t\t: yes\n",
      "flags\t\t: fpu vme de pse tsc msr pae mce cx8 apic sep mtrr pge mca cmov pat pse36 clflush mmx fxsr sse sse2 ss ht syscall nx pdpe1gb rdtscp lm constant_tsc rep_good nopl xtopology nonstop_tsc cpuid tsc_known_freq pni pclmulqdq ssse3 fma cx16 pcid sse4_1 sse4_2 x2apic movbe popcnt aes xsave avx f16c rdrand hypervisor lahf_lm abm invpcid_single pti ssbd ibrs ibpb stibp fsgsbase tsc_adjust bmi1 avx2 smep bmi2 erms invpcid xsaveopt arat md_clear arch_capabilities\n",
      "bugs\t\t: cpu_meltdown spectre_v1 spectre_v2 spec_store_bypass l1tf mds swapgs\n",
      "bogomips\t: 4599.99\n",
      "clflush size\t: 64\n",
      "cache_alignment\t: 64\n",
      "address sizes\t: 46 bits physical, 48 bits virtual\n",
      "power management:\n",
      "\n"
     ]
    }
   ],
   "source": [
    "!cat /proc/cpuinfo"
   ]
  },
  {
   "cell_type": "markdown",
   "metadata": {
    "id": "IWHjeq9v9yI7"
   },
   "source": [
    "Ooo.  Eight CPUs with decent speed.\n",
    "\n",
    "How much RAM?"
   ]
  },
  {
   "cell_type": "code",
   "execution_count": 14,
   "metadata": {
    "colab": {
     "base_uri": "https://localhost:8080/"
    },
    "executionInfo": {
     "elapsed": 293,
     "status": "ok",
     "timestamp": 1658255333620,
     "user": {
      "displayName": "Robert Citek",
      "userId": "12069792984466392165"
     },
     "user_tz": 360
    },
    "id": "RFima5Qn9ueo",
    "outputId": "74942e22-c4bf-4f73-aefd-2dd79217b525"
   },
   "outputs": [
    {
     "name": "stdout",
     "output_type": "stream",
     "text": [
      "              total        used        free      shared  buff/cache   available\n",
      "Mem:          52227       10735         439         422       41052       41682\n",
      "Swap:             0           0           0\n",
      "Total:        52227       10735         439\n"
     ]
    }
   ],
   "source": [
    "!free -tm"
   ]
  },
  {
   "cell_type": "markdown",
   "metadata": {
    "id": "mKt_xf2O95YJ"
   },
   "source": [
    "Nice!  Looks like 52GB+ of RAM.  That's just a tad more than my Chromebook.  ;)\n",
    "\n",
    "How many network interfaces?"
   ]
  },
  {
   "cell_type": "code",
   "execution_count": 15,
   "metadata": {
    "colab": {
     "base_uri": "https://localhost:8080/"
    },
    "executionInfo": {
     "elapsed": 30,
     "status": "ok",
     "timestamp": 1658255333622,
     "user": {
      "displayName": "Robert Citek",
      "userId": "12069792984466392165"
     },
     "user_tz": 360
    },
    "id": "Veoz3g4G-F20",
    "outputId": "c2c65ad8-b97a-458d-938e-b2cf59f76efe"
   },
   "outputs": [
    {
     "name": "stdout",
     "output_type": "stream",
     "text": [
      "/bin/bash: ifconfig: command not found\n"
     ]
    }
   ],
   "source": [
    "!ifconfig -a"
   ]
  },
  {
   "cell_type": "markdown",
   "metadata": {
    "id": "eb4rrEcsq0eV"
   },
   "source": [
    "Bummer, no ifconfig."
   ]
  },
  {
   "cell_type": "markdown",
   "metadata": {
    "id": "zpTe7Ien-T9c"
   },
   "source": [
    "But do we have networking?  That is, what's my external IP address?\n"
   ]
  },
  {
   "cell_type": "code",
   "execution_count": 16,
   "metadata": {
    "colab": {
     "base_uri": "https://localhost:8080/"
    },
    "executionInfo": {
     "elapsed": 566,
     "status": "ok",
     "timestamp": 1658255334169,
     "user": {
      "displayName": "Robert Citek",
      "userId": "12069792984466392165"
     },
     "user_tz": 360
    },
    "id": "QMbrxXfJ-XbF",
    "outputId": "01c04cf7-bd65-4761-f87e-35ab8e0f55de"
   },
   "outputs": [
    {
     "name": "stdout",
     "output_type": "stream",
     "text": [
      "{\"ip\":\"35.238.66.13\"}"
     ]
    }
   ],
   "source": [
    "!curl 'https://api.ipify.org?format=json'"
   ]
  },
  {
   "cell_type": "code",
   "execution_count": 17,
   "metadata": {
    "colab": {
     "base_uri": "https://localhost:8080/"
    },
    "executionInfo": {
     "elapsed": 28,
     "status": "ok",
     "timestamp": 1658255334174,
     "user": {
      "displayName": "Robert Citek",
      "userId": "12069792984466392165"
     },
     "user_tz": 360
    },
    "id": "482dQKXG-i-c",
    "outputId": "e6b1e57b-36ae-4c56-c631-957ec1af83bc"
   },
   "outputs": [
    {
     "name": "stdout",
     "output_type": "stream",
     "text": [
      "/bin/bash: jq: command not found\n"
     ]
    }
   ],
   "source": [
    "!jq -V"
   ]
  },
  {
   "cell_type": "markdown",
   "metadata": {
    "id": "vdO6CGIeq9vt"
   },
   "source": [
    "Bummer, no jq."
   ]
  },
  {
   "cell_type": "markdown",
   "metadata": {
    "id": "ezmWdxu0Xf97"
   },
   "source": [
    "## Programs\n",
    "Unfortunately, there doesn't seem to be a way to install programs in the Binder environment.  Ya get what ya get.\n"
   ]
  },
  {
   "cell_type": "markdown",
   "metadata": {
    "id": "tmSdtb1KXU0z"
   },
   "source": [
    "Does an ssh client exist and, if so, what version?"
   ]
  },
  {
   "cell_type": "code",
   "execution_count": 19,
   "metadata": {
    "colab": {
     "base_uri": "https://localhost:8080/"
    },
    "executionInfo": {
     "elapsed": 277,
     "status": "ok",
     "timestamp": 1658255367663,
     "user": {
      "displayName": "Robert Citek",
      "userId": "12069792984466392165"
     },
     "user_tz": 360
    },
    "id": "_H0MFqS0LTxT",
    "outputId": "78439160-5f5d-40c6-cc82-5dd79990db16"
   },
   "outputs": [
    {
     "name": "stdout",
     "output_type": "stream",
     "text": [
      "OpenSSH_7.6p1 Ubuntu-4ubuntu0.7, OpenSSL 1.0.2n  7 Dec 2017\n"
     ]
    }
   ],
   "source": [
    "!ssh -V"
   ]
  },
  {
   "cell_type": "markdown",
   "metadata": {
    "id": "7tarF6y-aR-_"
   },
   "source": [
    "Are there ssh keys?"
   ]
  },
  {
   "cell_type": "code",
   "execution_count": 20,
   "metadata": {
    "colab": {
     "base_uri": "https://localhost:8080/"
    },
    "executionInfo": {
     "elapsed": 24,
     "status": "ok",
     "timestamp": 1658255367666,
     "user": {
      "displayName": "Robert Citek",
      "userId": "12069792984466392165"
     },
     "user_tz": 360
    },
    "id": "AGcyoQ-EQs2j",
    "outputId": "ceb1ca7b-9b18-4c04-970a-ffc87db34c0f"
   },
   "outputs": [
    {
     "name": "stdout",
     "output_type": "stream",
     "text": [
      "ls: cannot access '/home/jovyan/.ssh/': No such file or directory\n"
     ]
    }
   ],
   "source": [
    "!ls -la ~/.ssh/"
   ]
  },
  {
   "cell_type": "markdown",
   "metadata": {
    "id": "45WwX23zbPWC"
   },
   "source": [
    "Nope.  So, let's create an ssh key pair."
   ]
  },
  {
   "cell_type": "code",
   "execution_count": 21,
   "metadata": {
    "colab": {
     "base_uri": "https://localhost:8080/"
    },
    "executionInfo": {
     "elapsed": 261,
     "status": "ok",
     "timestamp": 1658255367913,
     "user": {
      "displayName": "Robert Citek",
      "userId": "12069792984466392165"
     },
     "user_tz": 360
    },
    "id": "gO07EEHRUSi9",
    "outputId": "003c6412-9eed-415c-b245-747228579197"
   },
   "outputs": [
    {
     "name": "stdout",
     "output_type": "stream",
     "text": [
      "Generating public/private ecdsa key pair.\n",
      "Created directory '/home/jovyan/.ssh'.\n",
      "Your identification has been saved in /home/jovyan/.ssh/id_ecdsa.\n",
      "Your public key has been saved in /home/jovyan/.ssh/id_ecdsa.pub.\n",
      "The key fingerprint is:\n",
      "SHA256:GoODmXSMatnKGjuhiv8Tl4wSME/Ojf16Fal1Co6wkIk jovyan@jupyter-rwcitek-2djupyter-2de3be3or0\n",
      "The key's randomart image is:\n",
      "+---[ECDSA 256]---+\n",
      "|                 |\n",
      "|o .o             |\n",
      "|.Xo+o    .       |\n",
      "|EoX=o.. + .      |\n",
      "|.++=o*o=S+       |\n",
      "|+ + +.B+o        |\n",
      "|o+ . +..         |\n",
      "|=o  o .          |\n",
      "|*o...o           |\n",
      "+----[SHA256]-----+\n"
     ]
    }
   ],
   "source": [
    "!ssh-keygen -f ~/.ssh/id_ecdsa -N '' -t ecdsa"
   ]
  },
  {
   "cell_type": "code",
   "execution_count": 22,
   "metadata": {
    "colab": {
     "base_uri": "https://localhost:8080/"
    },
    "executionInfo": {
     "elapsed": 27,
     "status": "ok",
     "timestamp": 1658255367914,
     "user": {
      "displayName": "Robert Citek",
      "userId": "12069792984466392165"
     },
     "user_tz": 360
    },
    "id": "oXpoPju63qI3",
    "outputId": "2e1ce400-8256-4563-9931-d725aae57794"
   },
   "outputs": [
    {
     "name": "stdout",
     "output_type": "stream",
     "text": [
      "total 16\n",
      "drwx------ 2 jovyan jovyan 4096 Jul 19 19:33 .\n",
      "drwxr-xr-x 1 jovyan jovyan 4096 Jul 19 19:33 ..\n",
      "-rw------- 1 jovyan jovyan  227 Jul 19 19:33 id_ecdsa\n",
      "-rw-r--r-- 1 jovyan jovyan  205 Jul 19 19:33 id_ecdsa.pub\n"
     ]
    }
   ],
   "source": [
    "!ls -la ~/.ssh/"
   ]
  },
  {
   "cell_type": "markdown",
   "metadata": {
    "id": "oGJShKxA4t3r"
   },
   "source": [
    "Is git installed?"
   ]
  },
  {
   "cell_type": "code",
   "execution_count": 23,
   "metadata": {
    "colab": {
     "base_uri": "https://localhost:8080/"
    },
    "executionInfo": {
     "elapsed": 265,
     "status": "ok",
     "timestamp": 1658255368162,
     "user": {
      "displayName": "Robert Citek",
      "userId": "12069792984466392165"
     },
     "user_tz": 360
    },
    "id": "D5kn-twVi2Ug",
    "outputId": "8758e5fd-a915-4c0e-c81b-57896aeff56b"
   },
   "outputs": [
    {
     "name": "stdout",
     "output_type": "stream",
     "text": [
      "git version 2.17.1\n"
     ]
    }
   ],
   "source": [
    "!git --version"
   ]
  },
  {
   "cell_type": "markdown",
   "metadata": {
    "id": "jWuVUAFN9LRN"
   },
   "source": [
    "Nice!  In theory, we can now use git with ssh to clone, fetch, pull, and push to GitHub."
   ]
  },
  {
   "cell_type": "markdown",
   "metadata": {
    "id": "6purShL15b5U"
   },
   "source": [
    "Are there any checksum programs?"
   ]
  },
  {
   "cell_type": "code",
   "execution_count": 24,
   "metadata": {
    "colab": {
     "base_uri": "https://localhost:8080/"
    },
    "executionInfo": {
     "elapsed": 26,
     "status": "ok",
     "timestamp": 1658255368163,
     "user": {
      "displayName": "Robert Citek",
      "userId": "12069792984466392165"
     },
     "user_tz": 360
    },
    "id": "2X_C1Xlg40RN",
    "outputId": "b4f7297a-dbcd-45b5-fc05-1e00939f74d4"
   },
   "outputs": [
    {
     "name": "stdout",
     "output_type": "stream",
     "text": [
      "/usr/bin/b2sum\n",
      "/usr/bin/cksum\n",
      "/usr/bin/md5sum\n",
      "/usr/bin/md5sum.textutils\n",
      "/usr/bin/sha1sum\n",
      "/usr/bin/sha224sum\n",
      "/usr/bin/sha256sum\n",
      "/usr/bin/sha384sum\n",
      "/usr/bin/sha512sum\n",
      "/usr/bin/shasum\n",
      "/usr/bin/sum\n"
     ]
    }
   ],
   "source": [
    "!ls -1 /usr/bin/*sum*"
   ]
  },
  {
   "cell_type": "code",
   "execution_count": 25,
   "metadata": {
    "colab": {
     "base_uri": "https://localhost:8080/"
    },
    "executionInfo": {
     "elapsed": 232,
     "status": "ok",
     "timestamp": 1658255368381,
     "user": {
      "displayName": "Robert Citek",
      "userId": "12069792984466392165"
     },
     "user_tz": 360
    },
    "id": "rmnHk0gs48Zc",
    "outputId": "7d8c7728-b10b-4ce6-8ee6-5867428d91b0"
   },
   "outputs": [
    {
     "name": "stdout",
     "output_type": "stream",
     "text": [
      "e3b0c44298fc1c149afbf4c8996fb92427ae41e4649b934ca495991b7852b855  -\n"
     ]
    }
   ],
   "source": [
    "!echo -n '' | sha256sum"
   ]
  },
  {
   "cell_type": "code",
   "execution_count": 26,
   "metadata": {
    "colab": {
     "base_uri": "https://localhost:8080/"
    },
    "executionInfo": {
     "elapsed": 23,
     "status": "ok",
     "timestamp": 1658255368382,
     "user": {
      "displayName": "Robert Citek",
      "userId": "12069792984466392165"
     },
     "user_tz": 360
    },
    "id": "pTwIQSfT5aBb",
    "outputId": "b40b3deb-77be-4927-c4db-5079a9789869"
   },
   "outputs": [
    {
     "name": "stdout",
     "output_type": "stream",
     "text": [
      "d41d8cd98f00b204e9800998ecf8427e  -\n"
     ]
    }
   ],
   "source": [
    "!echo -n '' | md5sum"
   ]
  },
  {
   "cell_type": "markdown",
   "metadata": {
    "id": "HYUCKFLn8Us6"
   },
   "source": [
    "How about UUID?"
   ]
  },
  {
   "cell_type": "code",
   "execution_count": 27,
   "metadata": {
    "colab": {
     "base_uri": "https://localhost:8080/"
    },
    "executionInfo": {
     "elapsed": 250,
     "status": "ok",
     "timestamp": 1658255368619,
     "user": {
      "displayName": "Robert Citek",
      "userId": "12069792984466392165"
     },
     "user_tz": 360
    },
    "id": "j33DXVR38yRS",
    "outputId": "8a1fafb3-c756-433e-8fca-bb21f9a710d2"
   },
   "outputs": [
    {
     "name": "stdout",
     "output_type": "stream",
     "text": [
      "/bin/bash: uuid: command not found\n"
     ]
    }
   ],
   "source": [
    "!uuid"
   ]
  },
  {
   "cell_type": "markdown",
   "metadata": {
    "id": "wGfIapAb88VB"
   },
   "source": [
    "Bummer."
   ]
  },
  {
   "cell_type": "markdown",
   "metadata": {
    "id": "Y0RqyY18C-oQ"
   },
   "source": [
    "## Shell environment\n",
    "We've already been using the shell via the magic commands, but let's probe it a bit."
   ]
  },
  {
   "cell_type": "code",
   "execution_count": 28,
   "metadata": {
    "colab": {
     "base_uri": "https://localhost:8080/"
    },
    "executionInfo": {
     "elapsed": 23,
     "status": "ok",
     "timestamp": 1658255368621,
     "user": {
      "displayName": "Robert Citek",
      "userId": "12069792984466392165"
     },
     "user_tz": 360
    },
    "id": "kr19MiacCZ8u",
    "outputId": "377ee46f-25d3-4b49-9e49-c19b5237b942"
   },
   "outputs": [
    {
     "name": "stdout",
     "output_type": "stream",
     "text": [
      "GNU bash, version 4.4.20(1)-release (x86_64-pc-linux-gnu)\n",
      "Copyright (C) 2016 Free Software Foundation, Inc.\n",
      "License GPLv3+: GNU GPL version 3 or later <http://gnu.org/licenses/gpl.html>\n",
      "\n",
      "This is free software; you are free to change and redistribute it.\n",
      "There is NO WARRANTY, to the extent permitted by law.\n"
     ]
    }
   ],
   "source": [
    "!bash --version"
   ]
  },
  {
   "cell_type": "code",
   "execution_count": 29,
   "metadata": {
    "colab": {
     "base_uri": "https://localhost:8080/"
    },
    "executionInfo": {
     "elapsed": 14,
     "status": "ok",
     "timestamp": 1658255368622,
     "user": {
      "displayName": "Robert Citek",
      "userId": "12069792984466392165"
     },
     "user_tz": 360
    },
    "id": "dUeeCtP_CkbQ",
    "outputId": "08cbfb19-3fd5-4955-ead3-a255eb3efa70"
   },
   "outputs": [
    {
     "name": "stdout",
     "output_type": "stream",
     "text": [
      "4.4.20(1)-release\n"
     ]
    }
   ],
   "source": [
    "%%script bash\n",
    "echo $BASH_VERSION"
   ]
  },
  {
   "cell_type": "code",
   "execution_count": 30,
   "metadata": {
    "colab": {
     "base_uri": "https://localhost:8080/"
    },
    "executionInfo": {
     "elapsed": 251,
     "status": "ok",
     "timestamp": 1658255368865,
     "user": {
      "displayName": "Robert Citek",
      "userId": "12069792984466392165"
     },
     "user_tz": 360
    },
    "id": "rlfa3KLqDdaY",
    "outputId": "7c25f3ee-d195-4a16-82d2-a9a6514d57cc"
   },
   "outputs": [
    {
     "name": "stdout",
     "output_type": "stream",
     "text": [
      "/bin/bash\n"
     ]
    }
   ],
   "source": [
    "!which bash"
   ]
  },
  {
   "cell_type": "markdown",
   "metadata": {
    "id": "MkrjGWfVDvOu"
   },
   "source": [
    "Any other shells?"
   ]
  },
  {
   "cell_type": "code",
   "execution_count": 31,
   "metadata": {
    "colab": {
     "base_uri": "https://localhost:8080/"
    },
    "executionInfo": {
     "elapsed": 15,
     "status": "ok",
     "timestamp": 1658255368867,
     "user": {
      "displayName": "Robert Citek",
      "userId": "12069792984466392165"
     },
     "user_tz": 360
    },
    "id": "w9mJhlYlDgyt",
    "outputId": "a2d7a751-afa2-46bb-8323-f48efffaa2f2"
   },
   "outputs": [
    {
     "name": "stdout",
     "output_type": "stream",
     "text": [
      "-rwxr-xr-x 1 root root 1113504 Apr 18 15:08 /bin/bash\n",
      "-rwxr-xr-x 1 root root  121432 Jan 25  2018 /bin/dash\n",
      "lrwxrwxrwx 1 root root       4 Apr 18 15:08 /bin/rbash -> bash\n",
      "lrwxrwxrwx 1 root root       4 May 31 11:54 /bin/sh -> dash\n",
      "lrwxrwxrwx 1 root root       4 May 31 11:54 /bin/sh.distrib -> dash\n"
     ]
    }
   ],
   "source": [
    "!ls -la /bin/*sh*"
   ]
  },
  {
   "cell_type": "markdown",
   "metadata": {
    "id": "Fmp3660D_qNP"
   },
   "source": [
    "## Python\n",
    "One of the points of Jupyter is to run an interactiver version of Python.  So, let's probe what modules are available to Python."
   ]
  },
  {
   "cell_type": "code",
   "execution_count": 32,
   "metadata": {
    "colab": {
     "base_uri": "https://localhost:8080/"
    },
    "executionInfo": {
     "elapsed": 916,
     "status": "ok",
     "timestamp": 1658255369777,
     "user": {
      "displayName": "Robert Citek",
      "userId": "12069792984466392165"
     },
     "user_tz": 360
    },
    "id": "HytEuKPy85gO",
    "outputId": "3030a449-1a16-408c-8681-b15c548be6bb"
   },
   "outputs": [
    {
     "name": "stdout",
     "output_type": "stream",
     "text": [
      "Package                       Version\n",
      "----------------------------- ---------\n",
      "alembic                       1.7.7\n",
      "anyio                         3.5.0\n",
      "argon2-cffi                   21.3.0\n",
      "argon2-cffi-bindings          21.2.0\n",
      "async-generator               1.10\n",
      "attrs                         21.4.0\n",
      "Babel                         2.9.1\n",
      "backcall                      0.2.0\n",
      "backports.functools-lru-cache 1.6.4\n",
      "beautifulsoup4                4.11.0\n",
      "bleach                        5.0.0\n",
      "blinker                       1.4\n",
      "brotlipy                      0.7.0\n",
      "certifi                       2021.10.8\n",
      "certipy                       0.1.3\n",
      "cffi                          1.15.0\n",
      "charset-normalizer            2.0.12\n",
      "cryptography                  36.0.2\n",
      "debugpy                       1.5.1\n",
      "decorator                     5.1.1\n",
      "defusedxml                    0.7.1\n",
      "entrypoints                   0.4\n",
      "fastjsonschema                2.15.3\n",
      "flit_core                     3.7.1\n",
      "greenlet                      1.1.2\n",
      "idna                          3.3\n",
      "importlib-metadata            4.11.3\n",
      "importlib-resources           5.6.0\n",
      "ipykernel                     6.12.1\n",
      "ipython                       7.32.0\n",
      "ipython-genutils              0.2.0\n",
      "ipywidgets                    7.7.0\n",
      "jedi                          0.18.1\n",
      "Jinja2                        3.1.1\n",
      "json5                         0.9.5\n",
      "jsonschema                    4.4.0\n",
      "jupyter-client                7.2.2\n",
      "jupyter-core                  4.9.2\n",
      "jupyter-offlinenotebook       0.2.2\n",
      "jupyter-resource-usage        0.6.1\n",
      "jupyter-server                1.16.0\n",
      "jupyter-telemetry             0.1.0\n",
      "jupyterhub                    1.5.0\n",
      "jupyterlab                    3.3.3\n",
      "jupyterlab-pygments           0.2.0\n",
      "jupyterlab-server             2.12.0\n",
      "jupyterlab-widgets            1.1.0\n",
      "Mako                          1.2.0\n",
      "MarkupSafe                    2.1.1\n",
      "matplotlib-inline             0.1.3\n",
      "mistune                       0.8.4\n",
      "nbclassic                     0.3.7\n",
      "nbclient                      0.5.13\n",
      "nbconvert                     6.4.5\n",
      "nbformat                      5.3.0\n",
      "nest-asyncio                  1.5.5\n",
      "notebook                      6.4.10\n",
      "notebook-shim                 0.1.0\n",
      "nteract-on-jupyter            2.1.3\n",
      "oauthlib                      3.2.0\n",
      "packaging                     21.3\n",
      "pamela                        1.0.0\n",
      "pandocfilters                 1.5.0\n",
      "parso                         0.8.3\n",
      "pexpect                       4.8.0\n",
      "pickleshare                   0.7.5\n",
      "pip                           22.0.4\n",
      "prometheus-client             0.14.0\n",
      "prompt-toolkit                3.0.29\n",
      "psutil                        5.9.0\n",
      "ptyprocess                    0.7.0\n",
      "pycparser                     2.21\n",
      "pycurl                        7.45.1\n",
      "Pygments                      2.11.2\n",
      "PyJWT                         2.3.0\n",
      "pyOpenSSL                     22.0.0\n",
      "pyparsing                     3.0.7\n",
      "pyrsistent                    0.18.1\n",
      "PySocks                       1.7.1\n",
      "python-dateutil               2.8.2\n",
      "python-json-logger            2.0.1\n",
      "pytz                          2022.1\n",
      "pyzmq                         22.3.0\n",
      "requests                      2.27.1\n",
      "ruamel.yaml                   0.17.21\n",
      "ruamel.yaml.clib              0.2.6\n",
      "Send2Trash                    1.8.0\n",
      "setuptools                    62.0.0\n",
      "six                           1.16.0\n",
      "sniffio                       1.2.0\n",
      "soupsieve                     2.3.1\n",
      "SQLAlchemy                    1.4.35\n",
      "terminado                     0.13.3\n",
      "testpath                      0.6.0\n",
      "tornado                       6.1\n",
      "traitlets                     5.1.1\n",
      "typing_extensions             4.1.1\n",
      "urllib3                       1.26.9\n",
      "wcwidth                       0.2.5\n",
      "webencodings                  0.5.1\n",
      "websocket-client              1.3.2\n",
      "wheel                         0.37.1\n",
      "widgetsnbextension            3.6.0\n",
      "zipp                          3.8.0\n"
     ]
    }
   ],
   "source": [
    "!pip list"
   ]
  },
  {
   "cell_type": "markdown",
   "metadata": {
    "id": "O8PhshD9AF2U"
   },
   "source": [
    "Wow!  That's a lot.\n",
    "\n",
    "Let's count how many PyPi packages are installed."
   ]
  },
  {
   "cell_type": "code",
   "execution_count": 33,
   "metadata": {
    "colab": {
     "base_uri": "https://localhost:8080/"
    },
    "executionInfo": {
     "elapsed": 654,
     "status": "ok",
     "timestamp": 1658255370425,
     "user": {
      "displayName": "Robert Citek",
      "userId": "12069792984466392165"
     },
     "user_tz": 360
    },
    "id": "8cpFraA8_vDd",
    "outputId": "7ed03e7f-fb9a-4845-9f59-bfb9b94d675b"
   },
   "outputs": [
    {
     "name": "stdout",
     "output_type": "stream",
     "text": [
      "104\n"
     ]
    }
   ],
   "source": [
    "!pip list | tail -n +3 | wc -l"
   ]
  },
  {
   "cell_type": "markdown",
   "metadata": {
    "id": "itKndcRlsJWc"
   },
   "source": [
    "Let's do the same using some Jupyter magic."
   ]
  },
  {
   "cell_type": "code",
   "execution_count": 34,
   "metadata": {
    "colab": {
     "base_uri": "https://localhost:8080/"
    },
    "executionInfo": {
     "elapsed": 514,
     "status": "ok",
     "timestamp": 1658255370933,
     "user": {
      "displayName": "Robert Citek",
      "userId": "12069792984466392165"
     },
     "user_tz": 360
    },
    "id": "CrFAfD3KsNIZ",
    "outputId": "288431a6-ce17-4611-85b1-3538ea9ea741"
   },
   "outputs": [
    {
     "data": {
      "text/plain": [
       "['Package                       Version',\n",
       " '----------------------------- ---------',\n",
       " 'alembic                       1.7.7',\n",
       " 'anyio                         3.5.0',\n",
       " 'argon2-cffi                   21.3.0',\n",
       " 'argon2-cffi-bindings          21.2.0',\n",
       " 'async-generator               1.10',\n",
       " 'attrs                         21.4.0',\n",
       " 'Babel                         2.9.1',\n",
       " 'backcall                      0.2.0']"
      ]
     },
     "execution_count": 34,
     "metadata": {},
     "output_type": "execute_result"
    }
   ],
   "source": [
    "pip_list = !pip list\n",
    "pip_list[0:10]"
   ]
  },
  {
   "cell_type": "code",
   "execution_count": 35,
   "metadata": {
    "colab": {
     "base_uri": "https://localhost:8080/"
    },
    "executionInfo": {
     "elapsed": 389,
     "status": "ok",
     "timestamp": 1658255371305,
     "user": {
      "displayName": "Robert Citek",
      "userId": "12069792984466392165"
     },
     "user_tz": 360
    },
    "id": "whXBjHv0shYQ",
    "outputId": "af6d26f1-bf74-4457-c5e5-221d45edceae"
   },
   "outputs": [
    {
     "data": {
      "text/plain": [
       "104"
      ]
     },
     "execution_count": 35,
     "metadata": {},
     "output_type": "execute_result"
    }
   ],
   "source": [
    "len(pip_list[2:])"
   ]
  },
  {
   "cell_type": "markdown",
   "metadata": {
    "id": "J0gwCVnBstH5"
   },
   "source": [
    "That's nice to see that we get the same number."
   ]
  },
  {
   "cell_type": "markdown",
   "metadata": {
    "id": "jsgTnB21A6P7"
   },
   "source": [
    "What environment variables are set for Python?"
   ]
  },
  {
   "cell_type": "code",
   "execution_count": 36,
   "metadata": {
    "colab": {
     "base_uri": "https://localhost:8080/"
    },
    "executionInfo": {
     "elapsed": 39,
     "status": "ok",
     "timestamp": 1658255371306,
     "user": {
      "displayName": "Robert Citek",
      "userId": "12069792984466392165"
     },
     "user_tz": 360
    },
    "id": "tGsZyLIzAAA-",
    "outputId": "4a0df441-6177-41fa-c68b-7b245d509af1"
   },
   "outputs": [
    {
     "name": "stdout",
     "output_type": "stream",
     "text": [
      "PYTHONUNBUFFERED=1\n",
      "KERNEL_PYTHON_PREFIX=/srv/conda/envs/notebook\n",
      "CONDA_PYTHON_EXE=/srv/conda/bin/python\n",
      "NB_PYTHON_PREFIX=/srv/conda/envs/notebook\n"
     ]
    }
   ],
   "source": [
    "!env | grep -i python"
   ]
  },
  {
   "cell_type": "code",
   "execution_count": 37,
   "metadata": {
    "colab": {
     "base_uri": "https://localhost:8080/"
    },
    "executionInfo": {
     "elapsed": 30,
     "status": "ok",
     "timestamp": 1658255371307,
     "user": {
      "displayName": "Robert Citek",
      "userId": "12069792984466392165"
     },
     "user_tz": 360
    },
    "id": "gJ-_k1LAAz8s",
    "outputId": "78fc3abb-8328-492b-ccb4-f84e354168bb"
   },
   "outputs": [
    {
     "name": "stdout",
     "output_type": "stream",
     "text": [
      "total 236\n",
      "drwxr-xr-x 1 jovyan jovyan  4096 Jul 19 19:33 .\n",
      "drwxr-xr-x 1 root   root    4096 Jun 12 04:06 ..\n",
      "-rw-r--r-- 1 jovyan jovyan 16323 Jul 19 19:15 01-demo.ipynb\n",
      "-rw-r--r-- 1 jovyan jovyan   220 Apr  4  2018 .bash_logout\n",
      "-rw-r--r-- 1 jovyan jovyan  3771 Apr  4  2018 .bashrc\n",
      "drwxr-xr-x 4 jovyan jovyan  4096 Jul 19 19:34 .cache\n",
      "drwxr-xr-x 2 jovyan jovyan  4096 Jul 19 19:15 docs\n",
      "drwxr-xr-x 8 jovyan jovyan  4096 Jul 19 19:15 .git\n",
      "drwxr-xr-x 2 jovyan jovyan  4096 Jul 19 19:23 .ipynb_checkpoints\n",
      "drwxr-xr-x 5 jovyan jovyan  4096 Jul 19 19:23 .ipython\n",
      "drwxr-xr-x 3 jovyan jovyan  4096 Jul 19 19:22 .jupyter\n",
      "-rw-r--r-- 1 jovyan jovyan  5797 Jul 19 19:33 .jupyter-server-log.txt\n",
      "-rw-r--r-- 1 jovyan jovyan 11357 Jul 19 19:15 LICENSE\n",
      "drwxr-xr-x 3 jovyan jovyan  4096 Jul 19 19:22 .local\n",
      "-rw-r--r-- 1 jovyan jovyan  1016 Jul 19 19:15 outline.md\n",
      "-rw-r--r-- 1 jovyan jovyan   807 Apr  4  2018 .profile\n",
      "-rw-r--r-- 1 jovyan jovyan    33 Jul 19 19:15 README.md\n",
      "drwx------ 2 jovyan jovyan  4096 Jul 19 19:33 .ssh\n",
      "-rw-r--r-- 1 jovyan jovyan 67274 Jul 19 19:33 WhatIsBinder.ipynb\n",
      "-rw-r--r-- 1 jovyan jovyan 65959 Jul 19 19:15 WhatIsColab.ipynb\n"
     ]
    }
   ],
   "source": [
    "!ls -la ${PYTHONPATH}"
   ]
  },
  {
   "cell_type": "markdown",
   "metadata": {
    "id": "ONWv6D37BdN2"
   },
   "source": [
    "What's the default search path for Python modules?"
   ]
  },
  {
   "cell_type": "code",
   "execution_count": 38,
   "metadata": {
    "colab": {
     "base_uri": "https://localhost:8080/"
    },
    "executionInfo": {
     "elapsed": 22,
     "status": "ok",
     "timestamp": 1658255371308,
     "user": {
      "displayName": "Robert Citek",
      "userId": "12069792984466392165"
     },
     "user_tz": 360
    },
    "id": "ripT7QFdBApU",
    "outputId": "a2c74011-aef3-4679-f672-26babeb51e6c"
   },
   "outputs": [
    {
     "data": {
      "text/plain": [
       "['/home/jovyan',\n",
       " '/srv/conda/envs/notebook/lib/python37.zip',\n",
       " '/srv/conda/envs/notebook/lib/python3.7',\n",
       " '/srv/conda/envs/notebook/lib/python3.7/lib-dynload',\n",
       " '',\n",
       " '/srv/conda/envs/notebook/lib/python3.7/site-packages',\n",
       " '/srv/conda/envs/notebook/lib/python3.7/site-packages/IPython/extensions',\n",
       " '/home/jovyan/.ipython']"
      ]
     },
     "execution_count": 38,
     "metadata": {},
     "output_type": "execute_result"
    }
   ],
   "source": [
    "import sys\n",
    "sys.path"
   ]
  },
  {
   "cell_type": "markdown",
   "metadata": {
    "id": "TdfkGhOyCJ5T"
   },
   "source": [
    "What version of Python is running?"
   ]
  },
  {
   "cell_type": "code",
   "execution_count": 39,
   "metadata": {
    "colab": {
     "base_uri": "https://localhost:8080/"
    },
    "executionInfo": {
     "elapsed": 272,
     "status": "ok",
     "timestamp": 1658255371564,
     "user": {
      "displayName": "Robert Citek",
      "userId": "12069792984466392165"
     },
     "user_tz": 360
    },
    "id": "y6q35f8F8nQ-",
    "outputId": "4fe2403e-2ab6-4889-9988-05f3f681b072"
   },
   "outputs": [
    {
     "data": {
      "text/plain": [
       "sys.version_info(major=3, minor=7, micro=12, releaselevel='final', serial=0)"
      ]
     },
     "execution_count": 39,
     "metadata": {},
     "output_type": "execute_result"
    }
   ],
   "source": [
    "sys.version_info"
   ]
  },
  {
   "cell_type": "markdown",
   "metadata": {
    "id": "tj11MUavCGR7"
   },
   "source": [
    "Hmmm.  Not sorted dictionaries."
   ]
  },
  {
   "cell_type": "code",
   "execution_count": 40,
   "metadata": {
    "colab": {
     "base_uri": "https://localhost:8080/"
    },
    "executionInfo": {
     "elapsed": 17,
     "status": "ok",
     "timestamp": 1658255371565,
     "user": {
      "displayName": "Robert Citek",
      "userId": "12069792984466392165"
     },
     "user_tz": 360
    },
    "id": "8tYj1aKk8q9k",
    "outputId": "d1acc6c5-14e9-45eb-b351-763ad67b2aae"
   },
   "outputs": [
    {
     "data": {
      "text/plain": [
       "{'b': '2', 'a': '1'}"
      ]
     },
     "execution_count": 40,
     "metadata": {},
     "output_type": "execute_result"
    }
   ],
   "source": [
    "{ \"b\": \"2\", \"a\": \"1\"}"
   ]
  }
 ],
 "metadata": {
  "colab": {
   "authorship_tag": "ABX9TyPYuF/ifsTkc3W+O7HkgiuU",
   "collapsed_sections": [],
   "mount_file_id": "1zlsj8PKU2zj8Prx8W-nyHUd6b0UDtJ03",
   "name": "WhatIsColab.ipynb",
   "provenance": [],
   "toc_visible": true
  },
  "kernelspec": {
   "display_name": "Python 3 (ipykernel)",
   "language": "python",
   "name": "python3"
  },
  "language_info": {
   "codemirror_mode": {
    "name": "ipython",
    "version": 3
   },
   "file_extension": ".py",
   "mimetype": "text/x-python",
   "name": "python",
   "nbconvert_exporter": "python",
   "pygments_lexer": "ipython3",
   "version": "3.7.12"
  }
 },
 "nbformat": 4,
 "nbformat_minor": 4
}
